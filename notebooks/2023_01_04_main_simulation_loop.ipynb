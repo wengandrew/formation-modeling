{
 "cells": [
  {
   "attachments": {},
   "cell_type": "markdown",
   "metadata": {},
   "source": [
    "# Main Simulation Loop Construction\n",
    "\n",
    "Develop the main simulation loop for the formation model\n",
    "\n",
    "01/05/2023\n",
    "\n",
    "Andrew Weng"
   ]
  },
  {
   "cell_type": "code",
   "execution_count": 200,
   "metadata": {},
   "outputs": [
    {
     "name": "stdout",
     "output_type": "stream",
     "text": [
      "The autoreload extension is already loaded. To reload it, use:\n",
      "  %reload_ext autoreload\n"
     ]
    }
   ],
   "source": [
    "import os, sys\n",
    "\n",
    "# Move the path up a level to be able to index into source files\n",
    "if os.path.basename(os.getcwd()) == 'notebooks':\n",
    "    os.chdir('../')\n",
    "    sys.path.insert(0, 'src/')\n",
    "\n",
    "import pandas as pd\n",
    "import numpy as np\n",
    "from matplotlib import pyplot as plt\n",
    "\n",
    "from src import plotter as plotter\n",
    "from src import modelutils as modelutils\n",
    "from src import cellsim as cellsim \n",
    "\n",
    "%matplotlib widget\n",
    "%load_ext autoreload\n",
    "\n",
    "plotter.initialize(plt)"
   ]
  },
  {
   "attachments": {},
   "cell_type": "markdown",
   "metadata": {},
   "source": [
    "# CV Mode Equations\n",
    "\n",
    "Current decay during CV mode is analytically solvable for the nRC case:\n",
    "\n",
    "$$\n",
    "I_{CV} = \\frac{V_t - V_{OC} - \\sum_n R_{1,n}I_{R_{1,n}}\\exp{(-\\frac{\\Delta t}{\\tau_n})}}{\\sum_n(R_{0,n} + R_{1,n}(1-\\exp{(-\\frac{\\Delta t}{\\tau_n})}))}\n",
    "$$"
   ]
  },
  {
   "attachments": {},
   "cell_type": "markdown",
   "metadata": {},
   "source": [
    "# SEI growth dynamics\n",
    "\n",
    "SEI growth is modeled using the following approach.\n",
    "\n",
    "The total applied current is distributed across intercalation and SEI\n",
    "\n",
    "$$\n",
    "I_{app} = I_{int} + I_{SEI}\n",
    "$$\n",
    "\n",
    "The SEI current is related to the current density by (Eqn. 1j from Sulzer2021):\n",
    "\n",
    "$$\n",
    "I_{SEI} = -a_sA_nL_n j_{SEI}\n",
    "$$\n",
    "\n",
    "where \n",
    "- $a_s$ is the specific surface area [1/m]\n",
    "- $A_n$ is the negative electrode area [m^2] \n",
    "- $L_n$ is the negative electrode length [m] \n",
    "- $j_{SEI}$ is the SEI volumetric current density [A/m^3].\n",
    "\n",
    "The mixed reaction and diffusion limited SEI current density is (Eqn. 16 from Sulzer2021):\n",
    "\n",
    "$$\n",
    "j_{SEI} = \\frac{-c_{EC}^{bulk}}{1/(a_{sei}Fk_{SEI}\\exp(-\\alpha_{SEI}F\\eta_{SEI}/RT)) + \\delta_{SEI}/(D_{SEI}F)}\n",
    "$$\n",
    "\n",
    "Note that $j_{SEI} = f(\\eta_{SEI}, \\delta_{SEI})$. All the other terms in the equation are constants.\n",
    "\n",
    "The SEI reaction overpotential $\\eta_{SEI}$ is (Eqn. 1g from Sulzer2021):\n",
    "\n",
    "$$\n",
    "\\eta_{SEI} = \\phi_{s,n} - \\phi_e - U_{SEI} - j_{tot,k}R_{film}\\delta_{SEI}\n",
    "$$\n",
    "\n",
    "But we also know from Equation [1f] that\n",
    "\n",
    "$$\n",
    "\\eta_{n} = \\phi_{s,n} - \\phi_e - U_n(c_{s,n}^{surf}) - j_{tot,n}R_{film}\\delta_{SEI}\n",
    "$$\n",
    "\n",
    "which can be used to eliminate some variables and re-express the SEI overpotential as\n",
    "\n",
    "$$\n",
    "\\eta_{SEI} = \\eta_n + U_n(c_{s,n}^{surf}) - U_{SEI}\n",
    "$$\n",
    "\n",
    "\n"
   ]
  },
  {
   "cell_type": "markdown",
   "metadata": {},
   "source": [
    "# Modeling expansion"
   ]
  },
  {
   "attachments": {},
   "cell_type": "markdown",
   "metadata": {},
   "source": [
    "We consider three sources of microscopic expansion:\n",
    "1. $\\delta_p(y)$ : Reversible expansion of the cathode due to lithiation/delithiation\n",
    "2. $\\delta_n(x)$ : Reversible expansion of the anode due to lithiation/delithiation\n",
    "3. $\\delta_{sei}$ : Irreversible expansion of the SEI film on the anode\n",
    "\n",
    "$\\delta_p(y)$ and $\\delta_n(x)$ are assumed to remain constant over life.\n",
    "\n",
    "$\\delta_{sei}$ is due to SEI growth and is modeled as (Sulzer2021, eqn. 1h):\n",
    "\n",
    "$$\n",
    "\\frac{d\\delta_{SEI}}{dt} = \\bar{V}_{SEI} \\frac{j_{SEI}}{2F}\n",
    "$$\n",
    "\n",
    "Note the difference in units. $\\delta_p$ and $\\delta_n$ are numbers between 0 and 1, according to [1]. However, $\\delta_{SEI}$ is in units of meters. \n",
    "\n",
    "[TODO: make the units more consistent.]\n",
    "\n",
    "The microscopic expansion terms are related to the macroscopic expanion by:\n",
    "$$\n",
    "\\epsilon_{tot} = c_0 \\delta_{sei} + c_1 \\delta_p(y) + c_2 \\delta_n(x)\n",
    "$$\n",
    "where $c_0$, $c_1$, $c_2$, are coefficients. \n",
    "\n",
    "[TODO: these coefficients need some more physical parameterizations to make them relatable to the electrode properties like $a_s$, $R_n$, $R_p$, $A$, $L$, etc.]\n",
    "\n",
    "\n",
    "\n",
    "[1] Mohtat et al. 2020. “Differential Expansion and Voltage Model for\n",
    "    Li-Ion Batteries at Practical Charging Rates.” Journal of the\n",
    "    Electrochemical Society 167 (11): 110561.\n",
    "\n"
   ]
  },
  {
   "cell_type": "code",
   "execution_count": 202,
   "metadata": {},
   "outputs": [
    {
     "name": "stdout",
     "output_type": "stream",
     "text": [
      "Simulating Cycle 1...\n"
     ]
    },
    {
     "ename": "AttributeError",
     "evalue": "'Simulation' object has no attribute 't_vec'",
     "output_type": "error",
     "traceback": [
      "\u001b[0;31m---------------------------------------------------------------------------\u001b[0m",
      "\u001b[0;31mAttributeError\u001b[0m                            Traceback (most recent call last)",
      "\u001b[1;32m/Users/aweng/code/formation-modeling/notebooks/2023_01_04_main_simulation_loop.ipynb Cell 7\u001b[0m in \u001b[0;36m1\n\u001b[1;32m     <a href='vscode-notebook-cell:/Users/aweng/code/formation-modeling/notebooks/2023_01_04_main_simulation_loop.ipynb#W6sZmlsZQ%3D%3D?line=11'>12</a>\u001b[0m cycle_number \u001b[39m=\u001b[39m \u001b[39m1\u001b[39m\n\u001b[1;32m     <a href='vscode-notebook-cell:/Users/aweng/code/formation-modeling/notebooks/2023_01_04_main_simulation_loop.ipynb#W6sZmlsZQ%3D%3D?line=13'>14</a>\u001b[0m \u001b[39mprint\u001b[39m(\u001b[39mf\u001b[39m\u001b[39m'\u001b[39m\u001b[39mSimulating Cycle \u001b[39m\u001b[39m{\u001b[39;00mcycle_number\u001b[39m}\u001b[39;00m\u001b[39m...\u001b[39m\u001b[39m'\u001b[39m)\n\u001b[0;32m---> <a href='vscode-notebook-cell:/Users/aweng/code/formation-modeling/notebooks/2023_01_04_main_simulation_loop.ipynb#W6sZmlsZQ%3D%3D?line=15'>16</a>\u001b[0m \u001b[39mfor\u001b[39;00m k \u001b[39min\u001b[39;00m \u001b[39mrange\u001b[39m(\u001b[39m0\u001b[39m, \u001b[39mlen\u001b[39m(sim\u001b[39m.\u001b[39;49mt_vec) \u001b[39m-\u001b[39m \u001b[39m1\u001b[39m):\n\u001b[1;32m     <a href='vscode-notebook-cell:/Users/aweng/code/formation-modeling/notebooks/2023_01_04_main_simulation_loop.ipynb#W6sZmlsZQ%3D%3D?line=17'>18</a>\u001b[0m     \u001b[39mif\u001b[39;00m cycle_number \u001b[39m>\u001b[39m \u001b[39m3\u001b[39m:\n\u001b[1;32m     <a href='vscode-notebook-cell:/Users/aweng/code/formation-modeling/notebooks/2023_01_04_main_simulation_loop.ipynb#W6sZmlsZQ%3D%3D?line=18'>19</a>\u001b[0m         \u001b[39mbreak\u001b[39;00m\n",
      "\u001b[0;31mAttributeError\u001b[0m: 'Simulation' object has no attribute 't_vec'"
     ]
    }
   ],
   "source": [
    "%autoreload\n",
    "\n",
    "chg_current_amps = +0.5\n",
    "dch_current_amps = -0.5\n",
    "current_cv_cut_amps = 0.5 / 20\n",
    "sim_time_s = 90*3600\n",
    "\n",
    "cell = cellsim.Cell()\n",
    "sim = cellsim.Simulation(cell, sim_time_s)\n",
    "\n",
    "mode = 'cc_charge'\n",
    "cycle_number = 1\n",
    "\n",
    "print(f'Simulating Cycle {cycle_number}...')\n",
    "\n",
    "for k in range(0, len(sim.t) - 1):\n",
    "\n",
    "    if cycle_number > 3:\n",
    "        break\n",
    "\n",
    "    if mode == 'cc_charge':\n",
    "\n",
    "        sim.step(k, 'cc', icc=chg_current_amps) \n",
    "\n",
    "        # Check for constant voltage condition\n",
    "        if sim.vt[k+1] >= sim.vmax:\n",
    "            print('Switching from CC charge to CV charge...')\n",
    "            mode = 'cv_charge'\n",
    "            sim.vt[k+1] = sim.vmax\n",
    "            continue\n",
    "        \n",
    "    elif mode == 'cv_charge':\n",
    "\n",
    "        sim.step(k, 'cv', icv=current_cv_cut_amps)\n",
    "\n",
    "        if np.abs( sim.i_app[k] ) < np.abs( current_cv_cut_amps ):\n",
    "            print('Switching from CV charge to CC discharge...')\n",
    "            mode = 'cc_discharge'\n",
    "            continue\n",
    "\n",
    "    elif mode == 'cc_discharge':\n",
    "\n",
    "        sim.step(k, 'cc', icc=dch_current_amps)\n",
    "        if sim.vt[k+1] <= sim.vmin: \n",
    "           mode = 'cc_charge'\n",
    "           cycle_number += 1\n",
    "           print(f'Simulating Cycle {cycle_number}...')\n",
    "           continue\n",
    "\n",
    "print('Done.')\n",
    "\n",
    "sim.plot()\n"
   ]
  },
  {
   "cell_type": "code",
   "execution_count": null,
   "metadata": {},
   "outputs": [],
   "source": []
  }
 ],
 "metadata": {
  "kernelspec": {
   "display_name": "Python 3.8.5 ('venv': venv)",
   "language": "python",
   "name": "python3"
  },
  "language_info": {
   "codemirror_mode": {
    "name": "ipython",
    "version": 3
   },
   "file_extension": ".py",
   "mimetype": "text/x-python",
   "name": "python",
   "nbconvert_exporter": "python",
   "pygments_lexer": "ipython3",
   "version": "3.8.5"
  },
  "orig_nbformat": 4,
  "vscode": {
   "interpreter": {
    "hash": "8624fa73213a538c171185278102d5593706cb46f247c161527bbbeb756c8bc4"
   }
  }
 },
 "nbformat": 4,
 "nbformat_minor": 2
}
