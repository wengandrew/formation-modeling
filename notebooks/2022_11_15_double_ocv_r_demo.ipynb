{
 "cells": [
  {
   "cell_type": "markdown",
   "metadata": {},
   "source": [
    "# Demo of the 'Double OCV-R' model\n",
    "\n",
    "11/15/2022\n",
    "\n",
    "Andrew Weng"
   ]
  },
  {
   "cell_type": "code",
   "execution_count": 4,
   "metadata": {},
   "outputs": [],
   "source": [
    "import os, sys\n",
    "\n",
    "# Move the path up a level to be able to index into source files\n",
    "if os.path.basename(os.getcwd()) == 'notebooks':\n",
    "    os.chdir('../')\n",
    "    sys.path.insert(0, 'src/')\n",
    "\n",
    "import pandas as pd\n",
    "import numpy as np\n",
    "from matplotlib import pyplot as plt\n",
    "\n",
    "from src import plotter as plotter\n",
    "from src import model as model\n",
    "\n",
    "%matplotlib widget"
   ]
  },
  {
   "cell_type": "markdown",
   "metadata": {},
   "source": [
    "# Configure the model parameters"
   ]
  },
  {
   "cell_type": "code",
   "execution_count": 5,
   "metadata": {},
   "outputs": [
    {
     "ename": "NameError",
     "evalue": "name 'update_esoh' is not defined",
     "output_type": "error",
     "traceback": [
      "\u001b[0;31m---------------------------------------------------------------------------\u001b[0m",
      "\u001b[0;31mNameError\u001b[0m                                 Traceback (most recent call last)",
      "Cell \u001b[0;32mIn [5], line 33\u001b[0m\n\u001b[1;32m     30\u001b[0m I_vec[t_vec \u001b[39m>\u001b[39m \u001b[39m30000\u001b[39m] \u001b[39m=\u001b[39m \u001b[39m0.5\u001b[39m\n\u001b[1;32m     31\u001b[0m I_vec[t_vec \u001b[39m>\u001b[39m \u001b[39m14\u001b[39m \u001b[39m*\u001b[39m \u001b[39m3600\u001b[39m] \u001b[39m=\u001b[39m \u001b[39m-\u001b[39m\u001b[39m0.25\u001b[39m\n\u001b[0;32m---> 33\u001b[0m res \u001b[39m=\u001b[39m update_esoh(z0, q_max_ah, x100, y100, Cn, Cp)\n\u001b[1;32m     34\u001b[0m ocv0 \u001b[39m=\u001b[39m res[\u001b[39m4\u001b[39m]\n\u001b[1;32m     36\u001b[0m \u001b[39m# Initialize simulation output vectors\u001b[39;00m\n",
      "\u001b[0;31mNameError\u001b[0m: name 'update_esoh' is not defined"
     ]
    }
   ],
   "source": [
    "# Global settings\n",
    "vmax = 4.2\n",
    "\n",
    "# Configure model parameters\n",
    "\n",
    "# R-RC parameters\n",
    "R0 = 0.082\n",
    "R1 = 0.158\n",
    "C1 = 38000\n",
    "q_max_ah = 5 # Cell capacity in amp-hours\n",
    "\n",
    "# eSOH parameters\n",
    "Cn = 5\n",
    "Cp = 6\n",
    "x100 = 0.9\n",
    "y100 = 0.2\n",
    "\n",
    "# Simulation parameters\n",
    "z0               = 0.95    # Starting SOC\n",
    "dt               = 1.0\n",
    "sim_time_seconds = 30*3600 # Total simulation time\n",
    "t_vec            = np.arange(0, sim_time_seconds, dt)\n",
    "\n",
    "# Initialize simulation input vector\n",
    "I_vec    = np.zeros(len(t_vec))\n",
    "I_vec[t_vec > 3600] = 1.0\n",
    "I_vec[t_vec > 6400] = 2.0\n",
    "I_vec[t_vec > 9600] = -0.5\n",
    "I_vec[t_vec > 20000] = 0\n",
    "I_vec[t_vec > 30000] = 0.5\n",
    "I_vec[t_vec > 14 * 3600] = -0.25\n",
    "\n",
    "res = model.update_esoh(z0, q_max_ah, x100, y100, Cn, Cp)\n",
    "ocv0 = res[4]\n",
    "\n",
    "# Initialize simulation output vectors\n",
    "z_vec    = model.initialize_sim_vec(t_vec, z0)\n",
    "vt_vec   = model.initialize_sim_vec(t_vec, ocv0)\n",
    "ocv_vec  = model.initialize_sim_vec(t_vec, ocv0)\n",
    "I_r1_vec = model.initialize_sim_vec(t_vec, 0);\n",
    "x_vec    = model.initialize_sim_vec(t_vec, x100 - (1 - z0) * q_max_ah / Cn)\n",
    "y_vec    = model.initialize_sim_vec(t_vec, y100 + (1 - z0) * q_max_ah / Cp)\n",
    "un_vec   = model.initialize_sim_vec(t_vec, model.Un(x_vec[0]))\n",
    "up_vec   = model.initialize_sim_vec(t_vec, model.Up(y_vec[0]))\n",
    "\n"
   ]
  },
  {
   "cell_type": "markdown",
   "metadata": {},
   "source": [
    "# Run the simulation"
   ]
  },
  {
   "cell_type": "code",
   "execution_count": null,
   "metadata": {},
   "outputs": [],
   "source": [
    "for k in range(0, len(t_vec) - 1):\n",
    "\n",
    "    # SOC update\n",
    "    z_vec[k+1] = z_vec[k] - dt/(q_max_ah * 3600) * I_vec[k]\n",
    "\n",
    "    # Branch current update\n",
    "    I_r1_vec[k+1] =      np.exp(-dt/(R1*C1))  * I_r1_vec[k] + \\\n",
    "                    (1 - np.exp(-dt/(R1*C1))) * I_vec[k]\n",
    "\n",
    "    # OCV update\n",
    "    try:\n",
    "        # OCV model update\n",
    "        # ocv_vec[k+1] = update_ocv(z_vec[k])\n",
    "\n",
    "        # eOCV model update\n",
    "        res = model.update_esoh(z_vec[k+1], q_max_ah, x100, y100, Cn, Cp)\n",
    "        x_vec[k+1]   = res[0]\n",
    "        y_vec[k+1]   = res[1]\n",
    "        un_vec[k+1]  = res[2]\n",
    "        up_vec[k+1]  = res[3]\n",
    "        ocv_vec[k+1] = res[4]\n",
    "\n",
    "    except ValueError:\n",
    "        break\n",
    "\n",
    "    # Terminal voltage update\n",
    "    vt_vec[k+1] = ocv_vec[k+1] - R1 * I_r1_vec[k] - R0 * I_vec[k]\n",
    "\n",
    "    print(f'k = {k}, t = {t_vec[k]}s, ' +\n",
    "          f'Vt = {vt_vec[k]:.5f}V, ' +\n",
    "          f'SOC = {z_vec[k]:.5f}')\n"
   ]
  },
  {
   "cell_type": "markdown",
   "metadata": {},
   "source": [
    "# Visualize and save the results"
   ]
  },
  {
   "cell_type": "code",
   "execution_count": null,
   "metadata": {},
   "outputs": [],
   "source": [
    "\n",
    "fig, axs = plt.subplots(3, figsize=(12, 10), sharex=True)\n",
    "\n",
    "# Voltages and Potentials\n",
    "axs[0].plot(t_vec/3600, vt_vec,\n",
    "            linestyle='--',\n",
    "            color='k')\n",
    "axs[0].plot(t_vec/3600, ocv_vec,\n",
    "            marker='o', markersize=1,\n",
    "            color='k')\n",
    "axs[0].plot(t_vec/3600, up_vec,\n",
    "            marker='o', markersize=1,\n",
    "            color='b')\n",
    "axs[0].plot(np.NaN, np.NaN, color='r') # dummy, for legend\n",
    "\n",
    "ax_neg = axs[0].twinx()\n",
    "\n",
    "ax_neg.plot(t_vec/3600, un_vec,\n",
    "            marker='o', markersize=1,\n",
    "            color='r')\n",
    "\n",
    "ax_neg.tick_params(axis='y', colors='r')\n",
    "ax_neg.set_ylabel('$U_n$ (V vs $Li/Li^+$)')\n",
    "ax_neg.yaxis.label.set_color('red')\n",
    "\n",
    "axs[0].set_ylabel('Voltage (V)')\n",
    "axs[0].legend(['$V_t$', '$V_{oc}$', '$U_p$', '$U_n$'])\n",
    "\n",
    "# Currents\n",
    "axs[1].plot(t_vec/3600, I_vec,\n",
    "            color='k',\n",
    "            marker='o', markersize=1)\n",
    "axs[1].plot(t_vec/3600, I_r1_vec,\n",
    "            color='b',\n",
    "            marker='o', markersize=1)\n",
    "\n",
    "axs[1].set_ylabel('Current (A)')\n",
    "axs[1].legend(['$I_{applied}$', '$I_{R_1}$'])\n",
    "\n",
    "# SOC and Lithium Stoichiometries\n",
    "axs[2].plot(t_vec/3600, z_vec,\n",
    "            marker='o', markersize=1,\n",
    "            color='k')\n",
    "\n",
    "axs[2].plot(np.NaN, np.NaN, color='r') # dummy, for legend\n",
    "axs[2].plot(np.NaN, np.NaN, color='b') # dummy\n",
    "\n",
    "axs[2].set_xlabel('Time (hr)')\n",
    "axs[2].set_ylim((0, 1))\n",
    "axs[2].set_ylabel('SOC')\n",
    "\n",
    "ax_stoic = axs[2].twinx()\n",
    "\n",
    "ax_stoic.plot(t_vec/3600, x_vec,\n",
    "              color='r',\n",
    "              marker='o', markersize=1)\n",
    "\n",
    "ax_stoic.plot(t_vec/3600, y_vec,\n",
    "              color='b',\n",
    "              marker='o', markersize=1)\n",
    "\n",
    "ax_stoic.set_ylabel(r'$\\theta$')\n",
    "ax_stoic.set_ylim((0, 1))\n",
    "ax_neg.set_xlim(axs[0].get_xlim())\n",
    "\n",
    "axs[2].legend(['SOC', r'$\\theta_n$', r'$\\theta_p$'])\n",
    "\n",
    "plt.tight_layout()\n",
    "plt.savefig('res.png', dpi=300)\n"
   ]
  }
 ],
 "metadata": {
  "kernelspec": {
   "display_name": "Python 3.8.5 ('venv': venv)",
   "language": "python",
   "name": "python3"
  },
  "language_info": {
   "codemirror_mode": {
    "name": "ipython",
    "version": 3
   },
   "file_extension": ".py",
   "mimetype": "text/x-python",
   "name": "python",
   "nbconvert_exporter": "python",
   "pygments_lexer": "ipython3",
   "version": "3.8.5"
  },
  "orig_nbformat": 4,
  "vscode": {
   "interpreter": {
    "hash": "8624fa73213a538c171185278102d5593706cb46f247c161527bbbeb756c8bc4"
   }
  }
 },
 "nbformat": 4,
 "nbformat_minor": 2
}
